{
 "cells": [
  {
   "cell_type": "code",
   "execution_count": 1,
   "metadata": {},
   "outputs": [],
   "source": [
    "from gensim.models import Word2Vec\n",
    "import numpy as np\n",
    "from sklearn.decomposition import PCA\n",
    "from sklearn.manifold import TSNE\n",
    "#import matplotlib.pyplot as plt\n",
    "import matplotlib.pyplot as pyplot\n",
    "from __future__ import print_function\n",
    "import collections\n",
    "import math\n",
    "import numpy as np\n",
    "import pandas as pd\n",
    "import os\n",
    "import csv\n",
    "from csv import reader\n",
    "import random\n",
    "import tensorflow as tf\n",
    "from gensim.models import word2vec\n",
    "%matplotlib inline"
   ]
  },
  {
   "cell_type": "code",
   "execution_count": 2,
   "metadata": {},
   "outputs": [
    {
     "name": "stdout",
     "output_type": "stream",
     "text": [
      "/home/sungwoo\n"
     ]
    }
   ],
   "source": [
    "import os\n",
    "a = os.getcwd()\n",
    "print (a)"
   ]
  },
  {
   "cell_type": "code",
   "execution_count": 3,
   "metadata": {},
   "outputs": [
    {
     "data": {
      "text/html": [
       "<div>\n",
       "<table border=\"1\" class=\"dataframe\">\n",
       "  <thead>\n",
       "    <tr style=\"text-align: right;\">\n",
       "      <th></th>\n",
       "      <th>Location</th>\n",
       "      <th>Thing</th>\n",
       "    </tr>\n",
       "  </thead>\n",
       "  <tbody>\n",
       "    <tr>\n",
       "      <th>0</th>\n",
       "      <td>songdo</td>\n",
       "      <td>Computer</td>\n",
       "    </tr>\n",
       "    <tr>\n",
       "      <th>1</th>\n",
       "      <td>subway_station</td>\n",
       "      <td>iPhone</td>\n",
       "    </tr>\n",
       "    <tr>\n",
       "      <th>2</th>\n",
       "      <td>home</td>\n",
       "      <td>laptop</td>\n",
       "    </tr>\n",
       "  </tbody>\n",
       "</table>\n",
       "</div>"
      ],
      "text/plain": [
       "         Location     Thing\n",
       "0          songdo  Computer\n",
       "1  subway_station    iPhone\n",
       "2            home    laptop"
      ]
     },
     "execution_count": 3,
     "metadata": {},
     "output_type": "execute_result"
    }
   ],
   "source": [
    "df=pd.read_csv('/home/sungwoo/Ethnography3.csv'); df[:3]"
   ]
  },
  {
   "cell_type": "code",
   "execution_count": 4,
   "metadata": {},
   "outputs": [],
   "source": [
    "df3 = df.reindex(columns=['Location', 'Thing' ]).dropna(how='any').sort_values('Thing');\n",
    "from gensim.models import word2vec\n",
    "import logging\n",
    "logging.basicConfig(format='%(levelname)s : %(message)s', level=logging.INFO)"
   ]
  },
  {
   "cell_type": "code",
   "execution_count": 5,
   "metadata": {},
   "outputs": [],
   "source": [
    "with open('sentences.txt' , 'w') as fp:\n",
    "    for value in df3.values:\n",
    "        value[0]=value[0].upper()\n",
    "        value[1]=value[1].upper()\n",
    "        Location = value[0].replace('' ,'')\n",
    "        for Thing in value[1].split(' ,'):\n",
    "            fp.write('%s %s  \\n' % (Location,Thing.replace(' ', '')))\n"
   ]
  },
  {
   "cell_type": "code",
   "execution_count": 6,
   "metadata": {},
   "outputs": [],
   "source": [
    "sentences = word2vec.Text8Corpus('sentences.txt')"
   ]
  },
  {
   "cell_type": "code",
   "execution_count": 7,
   "metadata": {
    "scrolled": false
   },
   "outputs": [
    {
     "name": "stderr",
     "output_type": "stream",
     "text": [
      "INFO : collecting all words and their counts\n",
      "INFO : PROGRESS: at sentence #0, processed 0 words, keeping 0 word types\n",
      "INFO : collected 492 word types from a corpus of 10638 raw words and 2 sentences\n",
      "INFO : Loading a fresh vocabulary\n",
      "INFO : min_count=15 retains 152 unique words (30% of original 492, drops 340)\n",
      "INFO : min_count=15 leaves 7943 word corpus (74% of original 10638, drops 2695)\n",
      "INFO : deleting the raw counts dictionary of 492 items\n",
      "INFO : sample=0.001 downsamples 87 most-common words\n",
      "INFO : downsampling leaves estimated 3644 word corpus (45.9% of prior 7943)\n",
      "INFO : estimated required memory for 152 words and 100 dimensions: 197600 bytes\n",
      "INFO : resetting layer weights\n",
      "INFO : training model with 5 workers on 152 vocabulary and 100 features, using sg=0 hs=0 sample=0.001 negative=5 window=5\n",
      "INFO : worker thread finished; awaiting finish of 4 more threads\n",
      "INFO : worker thread finished; awaiting finish of 3 more threads\n",
      "INFO : worker thread finished; awaiting finish of 2 more threads\n",
      "INFO : worker thread finished; awaiting finish of 1 more threads\n",
      "INFO : worker thread finished; awaiting finish of 0 more threads\n",
      "INFO : training on 53190 raw words (18218 effective words) took 0.0s, 433505 effective words/s\n",
      "WARNING : under 10 jobs per worker: consider setting a smaller `batch_words' for smoother alpha decay\n"
     ]
    }
   ],
   "source": [
    "model = word2vec.Word2Vec(sentences, size=100, window=5, min_count=15, workers=5)"
   ]
  },
  {
   "cell_type": "code",
   "execution_count": 8,
   "metadata": {},
   "outputs": [
    {
     "name": "stdout",
     "output_type": "stream",
     "text": [
      "Word2Vec(vocab=152, size=100, alpha=0.025)\n"
     ]
    }
   ],
   "source": [
    "print(model)\n"
   ]
  },
  {
   "cell_type": "code",
   "execution_count": 9,
   "metadata": {
    "scrolled": true
   },
   "outputs": [
    {
     "name": "stdout",
     "output_type": "stream",
     "text": [
      "['UNIVERSITY', 'INCHEON_TERMINAL', 'CAFETERIA', 'SCHOOL_CAFETERIA', 'WALLET', 'POS_TERMINAL', 'MOVIE', 'SINGING_PRACTICE', 'HAIR_DRYER', 'CELL_PHONE', 'INU_CLUB_ROOM', 'BUS__', 'WALKING', 'PPT', 'BASEBALL_STADIUM', 'BUCHEON_', 'CENTRAL_PARK', 'WINDOW', 'BED', 'BUS_INFORMATION_MACHINE', 'PILLOW', 'HOMEPLUS', 'PART-TIME_JOB', 'SNACK', 'PENCIL,_PAPER', 'SCHOOL', 'RESTROOM', 'MIRROR', 'BILLIARD', 'CLOCK', 'MARKET', 'LIGHT', 'SI-HEUNG', 'GAPYEONG', 'LAPTOP', 'SEOUL', 'EUL-WANG-RI', 'BUS', 'CLASSROOM', 'ON_THE_WAY_TO_BUSAN', 'BUILDING', 'CLOTHES', 'CHURCH', 'AIR_CONDITIONER', 'ROAD', 'CARRIER', 'INU', 'HOUSE', 'ELEVATOR', 'PORK', 'BEVERAGE', 'RESTAURANT', 'KEYBOARD', 'FOOD', 'BEAM_PROJECTOR', 'LECTURE_ROOM', 'FRIENDS', 'TV', 'INHA_UNIVERSITY', 'SHOPPING_CART', 'BUS_STATION', 'BOOK', 'GYM', 'DOMITORY_ROOM', 'BUCHEON', 'ANSAN', 'SPOON', 'CUE_STICK', 'CARTOON_CAFE', 'DINNER', 'DESKTOP', 'BEACH(SAND)', 'DRINKING', 'BUSAN', 'SUBWAY_CHAIR', 'BUS_CARD', 'HAMBURGER', 'CLOTH', 'MOUSE', 'SANG-DONG', 'SANG-BONG_STATION', 'KIMBAB_HEAVEN', 'TOILET', 'HOME', 'DORMITORY', 'SONGDO', 'CARD_READER', 'POT', 'JEON-JU', 'CAMPUS', 'NIGHT_WALKING', 'BASEBALL_GAME', 'CONVENIENCE_STORE', 'LIBRARY', 'SHAMPOO', 'SHOES', 'CAFE', 'COFFEE_MACHINE', 'INCHEON_INTERNATIONAL_AIRPORT', 'BICYCLE', 'WONINJAE', 'PARK', 'COAST', 'REFRIGERATOR', '326_LECTURE_ROOM', 'TREE', 'HAIR_SALON', 'CHAIR', 'SMART_PHONE', 'BAR', 'BUPYEONG', 'CAR', 'TABLE', 'OVERWATCH_GAME', 'RESTAURENT', 'VIBRATING_BELL', 'ASSIGNMENT', 'BUS_STOP', 'CHICKEN', 'SOJU_AND_BEER', 'SUBWAY_STATION', 'COMPUTER', 'SMARTPHONE', 'CLOSET', 'DISPLAY_BOARD', 'MONITOR', 'BAEKSUK-DONG', 'RAMEN', 'COFFEE', 'TRIPLE_STREET', 'CUP', 'CAMERA', 'STREET', 'SUBWAY', 'CLASS_ROOM', 'CARTOON', 'TOAST', 'WORKPLACE', 'SHOPPING', 'CLEANING_MACHINE', 'ESCALATOR', 'PROFESSOR', '518_LECTURE_ROOM', 'PC_ROOM', 'FLOWER_POT', 'CHARGING_A_CELLPHONE', 'BILLIARD_ROOM', 'SUBWAY_SYSTEM', 'SOJU', 'INCHEON_UNIVERSITY', 'DONGCHUN', 'GUWOL-DONG']\n"
     ]
    }
   ],
   "source": [
    "words = list(model.wv.vocab)\n",
    "print(words)"
   ]
  },
  {
   "cell_type": "code",
   "execution_count": 10,
   "metadata": {},
   "outputs": [
    {
     "name": "stdout",
     "output_type": "stream",
     "text": [
      "[[ 0.0211339   0.16008852 -0.00401824  0.01138861  0.28886303  0.17957352\n",
      "   0.08161264 -0.10861339 -0.01038501  0.07702633 -0.15424106 -0.02239709\n",
      "   0.25826865  0.15882228  0.10407308 -0.12009954  0.38074908 -0.00887793\n",
      "   0.03101915  0.11724425  0.18662038  0.05020955  0.0354152   0.19682279\n",
      "  -0.02119616 -0.18961504 -0.11343109 -0.09887444 -0.07549698  0.02464806\n",
      "  -0.09439984  0.11002416 -0.11478332  0.01203193 -0.21018174  0.09985426\n",
      "   0.12290116 -0.13955322 -0.11318551  0.13012522  0.02025522 -0.02985606\n",
      "   0.19050725 -0.06685375 -0.03840948  0.0905688  -0.17958517  0.12307788\n",
      "  -0.01400661 -0.08496431 -0.24971744  0.11267851 -0.1094979   0.16850159\n",
      "  -0.19499795 -0.10491035 -0.11218961 -0.00234092  0.05339416  0.23519737\n",
      "  -0.11063641 -0.08000024  0.13918266  0.25959188 -0.00359773  0.04145925\n",
      "  -0.01379957  0.04840906  0.18416308 -0.21887074 -0.0636009   0.09291854\n",
      "  -0.03580412  0.03647167 -0.00895717  0.00056847  0.02083276 -0.33288026\n",
      "  -0.04064448 -0.10812379 -0.01507295 -0.00265426  0.10648972  0.22326127\n",
      "   0.12483983  0.24468771 -0.05796229 -0.06931733 -0.08437362 -0.20287237\n",
      "   0.09574702  0.02014634  0.06525949 -0.0038935  -0.07302079  0.16269013\n",
      "   0.06584924  0.10460745 -0.08122449  0.03114696]]\n"
     ]
    }
   ],
   "source": [
    "print(model[['COMPUTER']])"
   ]
  },
  {
   "cell_type": "code",
   "execution_count": 11,
   "metadata": {
    "scrolled": true
   },
   "outputs": [
    {
     "name": "stderr",
     "output_type": "stream",
     "text": [
      "INFO : storing 152x100 projection weights into model.bin\n"
     ]
    }
   ],
   "source": [
    "model.wv.save_word2vec_format('model.bin')"
   ]
  },
  {
   "cell_type": "code",
   "execution_count": 12,
   "metadata": {},
   "outputs": [
    {
     "name": "stderr",
     "output_type": "stream",
     "text": [
      "INFO : storing 152x100 projection weights into model.txt\n"
     ]
    }
   ],
   "source": [
    "model.wv.save_word2vec_format('model.txt', binary = False)"
   ]
  },
  {
   "cell_type": "code",
   "execution_count": 13,
   "metadata": {
    "scrolled": false
   },
   "outputs": [
    {
     "name": "stderr",
     "output_type": "stream",
     "text": [
      "INFO : loading projection weights from model.bin\n",
      "INFO : loaded (152, 100) matrix from model.bin\n"
     ]
    },
    {
     "name": "stdout",
     "output_type": "stream",
     "text": [
      "<gensim.models.keyedvectors.KeyedVectors object at 0x7f7cf4acc550>\n"
     ]
    }
   ],
   "source": [
    "import gensim.models.keyedvectors as word2vec\n",
    "new_model = word2vec.KeyedVectors.load_word2vec_format('model.bin')\n",
    "print(new_model)"
   ]
  },
  {
   "cell_type": "code",
   "execution_count": 14,
   "metadata": {
    "scrolled": true
   },
   "outputs": [
    {
     "name": "stdout",
     "output_type": "stream",
     "text": [
      "Current size: [6.0, 4.0]\n"
     ]
    },
    {
     "data": {
      "image/png": "[encoded data removed]",
      "text/plain": [
       "<matplotlib.figure.Figure at 0x7f7cf49bc550>"
      ]
     },
     "metadata": {},
     "output_type": "display_data"
    }
   ],
   "source": [
    "X = model[model.wv.vocab]\n",
    "pca = PCA(n_components=2)\n",
    "result = pca.fit_transform(X)\n",
    "# create a scatter plot of the projection\n",
    "pyplot.title('User response analysis using PCA')\n",
    "#pyplot.scatter(result[:,0],result[:,1])\n",
    "pyplot.xlabel('Location')\n",
    "fig_size = pyplot.rcParams[\"figure.figsize\"]\n",
    "print (\"Current size:\", fig_size)\n",
    "fig_size[0] = 20\n",
    "fig_size[1] = 15\n",
    "pyplot.rcParams[\"figure.figsize\"] = fig_size\n",
    "pyplot.ylim(-2,2)\n",
    "pyplot.xlim(-2,1.5)\n",
    "words = list(model.wv.vocab)\n",
    "for i, word in enumerate(words):\n",
    "    if not word in ['REFRIGERATOR']:\n",
    "         if word in ['COMPUTER','326_LECTURE_ROOM','HOUSE','PC_ROOM','CLASS_ROOM','BAEKSUK-DONG'\n",
    "                    ,'INHA_UNIVERSITY','HOME','CLASSROOM','OVERWATCH_GAME','MOUSE']:\n",
    "            pyplot.annotate(word, xy=(result[i, 0], result[i, 1]))\n",
    "            pyplot.scatter(result[i,0],result[i,1])\n",
    "pyplot.grid(True)\n",
    "pyplot.show()"
   ]
  },
  {
   "cell_type": "code",
   "execution_count": 15,
   "metadata": {},
   "outputs": [
    {
     "name": "stderr",
     "output_type": "stream",
     "text": [
      "INFO : precomputing L2-norms of word weight vectors\n"
     ]
    },
    {
     "data": {
      "text/plain": [
       "[('326_LECTURE_ROOM', 0.9808163642883301),\n",
       " ('HOUSE', 0.9695262908935547),\n",
       " ('PC_ROOM', 0.9570291042327881),\n",
       " ('CLASS_ROOM', 0.9539010524749756),\n",
       " ('BAEKSUK-DONG', 0.9459470510482788),\n",
       " ('INHA_UNIVERSITY', 0.9420482516288757),\n",
       " ('MOUSE', 0.9364089965820312),\n",
       " ('OVERWATCH_GAME', 0.9349728226661682),\n",
       " ('AIR_CONDITIONER', 0.9330059885978699),\n",
       " ('CLEANING_MACHINE', 0.9328169822692871)]"
      ]
     },
     "execution_count": 15,
     "metadata": {},
     "output_type": "execute_result"
    }
   ],
   "source": [
    "model.most_similar(positive=['COMPUTER'])"
   ]
  },
  {
   "cell_type": "code",
   "execution_count": 16,
   "metadata": {},
   "outputs": [
    {
     "data": {
      "text/plain": [
       "0.91825392549002083"
      ]
     },
     "execution_count": 16,
     "metadata": {},
     "output_type": "execute_result"
    }
   ],
   "source": [
    "model.similarity('RESTAURANT','LAPTOP')"
   ]
  },
  {
   "cell_type": "code",
   "execution_count": 17,
   "metadata": {},
   "outputs": [
    {
     "data": {
      "text/plain": [
       "0.9977427296403315"
      ]
     },
     "execution_count": 17,
     "metadata": {},
     "output_type": "execute_result"
    }
   ],
   "source": [
    "model.similarity('INCHEON_TERMINAL','SUBWAY_STATION')"
   ]
  },
  {
   "cell_type": "code",
   "execution_count": 18,
   "metadata": {},
   "outputs": [
    {
     "data": {
      "text/plain": [
       "[('SCHOOL_CAFETERIA', 0.9962369203567505), ('UNIVERSITY', 0.995794951915741)]"
      ]
     },
     "execution_count": 18,
     "metadata": {},
     "output_type": "execute_result"
    }
   ],
   "source": [
    "model.most_similar(positive=['RESTAURANT','INU'],negative=['CAFE'],topn=2)"
   ]
  }
 ],
 "metadata": {
  "kernelspec": {
   "display_name": "Python 3",
   "language": "python",
   "name": "python3"
  },
  "language_info": {
   "codemirror_mode": {
    "name": "ipython",
    "version": 3
   },
   "file_extension": ".py",
   "mimetype": "text/x-python",
   "name": "python",
   "nbconvert_exporter": "python",
   "pygments_lexer": "ipython3",
   "version": "3.5.2"
  }
 },
 "nbformat": 4,
 "nbformat_minor": 2
}
